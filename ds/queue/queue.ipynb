{
 "cells": [
  {
   "cell_type": "code",
   "execution_count": 1,
   "id": "115b8dce-b4ea-4828-9870-75cc16e60873",
   "metadata": {},
   "outputs": [
    {
     "name": "stdout",
     "output_type": "stream",
     "text": [
      "type 'a queue = { l1 : 'a list; l2 : 'a list; }\n"
     ]
    }
   ],
   "source": [
    "#use \"queue.ml\""
   ]
  },
  {
   "cell_type": "code",
   "execution_count": 2,
   "id": "ffabe371-1e0b-44ed-a3f7-ce5736efb8f8",
   "metadata": {},
   "outputs": [
    {
     "data": {
      "text/plain": [
       "val file : int queue = {l1 = [1; 2; 3]; l2 = [6; 5; 4]}\n"
      ]
     },
     "execution_count": 2,
     "metadata": {},
     "output_type": "execute_result"
    }
   ],
   "source": [
    "let file= {l1=[1;2;3];l2=[6;5;4]}"
   ]
  },
  {
   "cell_type": "code",
   "execution_count": null,
   "id": "faccacc7-74b1-4f72-ac1e-465272fd5eeb",
   "metadata": {},
   "outputs": [],
   "source": []
  }
 ],
 "metadata": {
  "kernelspec": {
   "display_name": "OCaml default",
   "language": "OCaml",
   "name": "ocaml-jupyter"
  },
  "language_info": {
   "codemirror_mode": "text/x-ocaml",
   "file_extension": ".ml",
   "mimetype": "text/x-ocaml",
   "name": "OCaml",
   "nbconverter_exporter": null,
   "pygments_lexer": "OCaml",
   "version": "4.08.1"
  }
 },
 "nbformat": 4,
 "nbformat_minor": 5
}
