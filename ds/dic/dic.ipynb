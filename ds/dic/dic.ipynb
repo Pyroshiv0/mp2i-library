{
 "cells": [
  {
   "cell_type": "code",
   "execution_count": 46,
   "id": "5f38a915-4f9c-41b0-a7a4-c629c5a4b9b3",
   "metadata": {},
   "outputs": [
    {
     "ename": "error",
     "evalue": "compile_error",
     "output_type": "error",
     "traceback": [
      "File \"[46]\", line 1:\nError: I/O error: dic.ml: No such file or directory\n"
     ]
    }
   ],
   "source": [
    "#use \"dic.ml\""
   ]
  },
  {
   "cell_type": "code",
   "execution_count": 41,
   "id": "a216b890-5d0e-440b-8296-e46a9895e4de",
   "metadata": {},
   "outputs": [
    {
     "ename": "error",
     "evalue": "compile_error",
     "output_type": "error",
     "traceback": [
      "File \"[41]\", line 1, characters 17-19:\n1 | let dick= create h1 0\n                     ^^\nError: Unbound value h1\n"
     ]
    }
   ],
   "source": [
    "let dick= create h1 0"
   ]
  },
  {
   "cell_type": "code",
   "execution_count": null,
   "id": "8b35d368-78a5-4c41-9ced-4c96f49b2b5a",
   "metadata": {},
   "outputs": [],
   "source": []
  }
 ],
 "metadata": {
  "kernelspec": {
   "display_name": "OCaml default",
   "language": "OCaml",
   "name": "ocaml-jupyter"
  },
  "language_info": {
   "codemirror_mode": "text/x-ocaml",
   "file_extension": ".ml",
   "mimetype": "text/x-ocaml",
   "name": "OCaml",
   "nbconverter_exporter": null,
   "pygments_lexer": "OCaml",
   "version": "4.08.1"
  }
 },
 "nbformat": 4,
 "nbformat_minor": 5
}
